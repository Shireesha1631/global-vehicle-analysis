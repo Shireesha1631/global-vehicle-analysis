{
  "nbformat": 4,
  "nbformat_minor": 0,
  "metadata": {
    "colab": {
      "provenance": [],
      "authorship_tag": "ABX9TyM1hByfdSlrIQZnC4eb6Rkt",
      "include_colab_link": true
    },
    "kernelspec": {
      "name": "python3",
      "display_name": "Python 3"
    },
    "language_info": {
      "name": "python"
    }
  },
  "cells": [
    {
      "cell_type": "markdown",
      "metadata": {
        "id": "view-in-github",
        "colab_type": "text"
      },
      "source": [
        "<a href=\"https://colab.research.google.com/github/Shireesha1631/global-vehicle-analysis/blob/main/Cleaned%20EV%20and%20Tesla%20data%20%2B%20visualizations.ipynb\" target=\"_parent\"><img src=\"https://colab.research.google.com/assets/colab-badge.svg\" alt=\"Open In Colab\"/></a>"
      ]
    },
    {
      "cell_type": "code",
      "execution_count": 1,
      "metadata": {
        "id": "XzYJUEwKcRyp"
      },
      "outputs": [],
      "source": [
        "import pandas as pd\n",
        "import seaborn as sns\n",
        "import matplotlib.pyplot as plt"
      ]
    },
    {
      "cell_type": "code",
      "source": [
        "sns.set(style=\"whitegrid\")\n",
        "plt.rcParams[\"figure.figsize\"] = (12, 6)"
      ],
      "metadata": {
        "id": "jfvq-lpc2JnP"
      },
      "execution_count": 2,
      "outputs": []
    },
    {
      "cell_type": "code",
      "source": [
        "ev_url = \"https://raw.githubusercontent.com/Shireesha1631/global-vehicle-analysis/main/data/ev_sales.csv\"\n",
        "ev_df = pd.read_csv(ev_url)\n",
        "ev_df.head()\n"
      ],
      "metadata": {
        "colab": {
          "base_uri": "https://localhost:8080/",
          "height": 206
        },
        "id": "JseCNjpZ2KSR",
        "outputId": "3603a685-db06-4454-e1c3-dd9539da76d7"
      },
      "execution_count": 8,
      "outputs": [
        {
          "output_type": "execute_result",
          "data": {
            "text/plain": [
              "      region    category       parameter  mode powertrain  year      unit  \\\n",
              "0  Australia  Historical  EV stock share  Cars         EV  2011   percent   \n",
              "1  Australia  Historical  EV sales share  Cars         EV  2011   percent   \n",
              "2  Australia  Historical        EV sales  Cars        BEV  2011  Vehicles   \n",
              "3  Australia  Historical        EV stock  Cars        BEV  2011  Vehicles   \n",
              "4  Australia  Historical        EV stock  Cars        BEV  2012  Vehicles   \n",
              "\n",
              "       value  \n",
              "0    0.00039  \n",
              "1    0.00650  \n",
              "2   49.00000  \n",
              "3   49.00000  \n",
              "4  220.00000  "
            ],
            "text/html": [
              "\n",
              "  <div id=\"df-ce165828-01d8-4708-a48c-f28906635296\" class=\"colab-df-container\">\n",
              "    <div>\n",
              "<style scoped>\n",
              "    .dataframe tbody tr th:only-of-type {\n",
              "        vertical-align: middle;\n",
              "    }\n",
              "\n",
              "    .dataframe tbody tr th {\n",
              "        vertical-align: top;\n",
              "    }\n",
              "\n",
              "    .dataframe thead th {\n",
              "        text-align: right;\n",
              "    }\n",
              "</style>\n",
              "<table border=\"1\" class=\"dataframe\">\n",
              "  <thead>\n",
              "    <tr style=\"text-align: right;\">\n",
              "      <th></th>\n",
              "      <th>region</th>\n",
              "      <th>category</th>\n",
              "      <th>parameter</th>\n",
              "      <th>mode</th>\n",
              "      <th>powertrain</th>\n",
              "      <th>year</th>\n",
              "      <th>unit</th>\n",
              "      <th>value</th>\n",
              "    </tr>\n",
              "  </thead>\n",
              "  <tbody>\n",
              "    <tr>\n",
              "      <th>0</th>\n",
              "      <td>Australia</td>\n",
              "      <td>Historical</td>\n",
              "      <td>EV stock share</td>\n",
              "      <td>Cars</td>\n",
              "      <td>EV</td>\n",
              "      <td>2011</td>\n",
              "      <td>percent</td>\n",
              "      <td>0.00039</td>\n",
              "    </tr>\n",
              "    <tr>\n",
              "      <th>1</th>\n",
              "      <td>Australia</td>\n",
              "      <td>Historical</td>\n",
              "      <td>EV sales share</td>\n",
              "      <td>Cars</td>\n",
              "      <td>EV</td>\n",
              "      <td>2011</td>\n",
              "      <td>percent</td>\n",
              "      <td>0.00650</td>\n",
              "    </tr>\n",
              "    <tr>\n",
              "      <th>2</th>\n",
              "      <td>Australia</td>\n",
              "      <td>Historical</td>\n",
              "      <td>EV sales</td>\n",
              "      <td>Cars</td>\n",
              "      <td>BEV</td>\n",
              "      <td>2011</td>\n",
              "      <td>Vehicles</td>\n",
              "      <td>49.00000</td>\n",
              "    </tr>\n",
              "    <tr>\n",
              "      <th>3</th>\n",
              "      <td>Australia</td>\n",
              "      <td>Historical</td>\n",
              "      <td>EV stock</td>\n",
              "      <td>Cars</td>\n",
              "      <td>BEV</td>\n",
              "      <td>2011</td>\n",
              "      <td>Vehicles</td>\n",
              "      <td>49.00000</td>\n",
              "    </tr>\n",
              "    <tr>\n",
              "      <th>4</th>\n",
              "      <td>Australia</td>\n",
              "      <td>Historical</td>\n",
              "      <td>EV stock</td>\n",
              "      <td>Cars</td>\n",
              "      <td>BEV</td>\n",
              "      <td>2012</td>\n",
              "      <td>Vehicles</td>\n",
              "      <td>220.00000</td>\n",
              "    </tr>\n",
              "  </tbody>\n",
              "</table>\n",
              "</div>\n",
              "    <div class=\"colab-df-buttons\">\n",
              "\n",
              "  <div class=\"colab-df-container\">\n",
              "    <button class=\"colab-df-convert\" onclick=\"convertToInteractive('df-ce165828-01d8-4708-a48c-f28906635296')\"\n",
              "            title=\"Convert this dataframe to an interactive table.\"\n",
              "            style=\"display:none;\">\n",
              "\n",
              "  <svg xmlns=\"http://www.w3.org/2000/svg\" height=\"24px\" viewBox=\"0 -960 960 960\">\n",
              "    <path d=\"M120-120v-720h720v720H120Zm60-500h600v-160H180v160Zm220 220h160v-160H400v160Zm0 220h160v-160H400v160ZM180-400h160v-160H180v160Zm440 0h160v-160H620v160ZM180-180h160v-160H180v160Zm440 0h160v-160H620v160Z\"/>\n",
              "  </svg>\n",
              "    </button>\n",
              "\n",
              "  <style>\n",
              "    .colab-df-container {\n",
              "      display:flex;\n",
              "      gap: 12px;\n",
              "    }\n",
              "\n",
              "    .colab-df-convert {\n",
              "      background-color: #E8F0FE;\n",
              "      border: none;\n",
              "      border-radius: 50%;\n",
              "      cursor: pointer;\n",
              "      display: none;\n",
              "      fill: #1967D2;\n",
              "      height: 32px;\n",
              "      padding: 0 0 0 0;\n",
              "      width: 32px;\n",
              "    }\n",
              "\n",
              "    .colab-df-convert:hover {\n",
              "      background-color: #E2EBFA;\n",
              "      box-shadow: 0px 1px 2px rgba(60, 64, 67, 0.3), 0px 1px 3px 1px rgba(60, 64, 67, 0.15);\n",
              "      fill: #174EA6;\n",
              "    }\n",
              "\n",
              "    .colab-df-buttons div {\n",
              "      margin-bottom: 4px;\n",
              "    }\n",
              "\n",
              "    [theme=dark] .colab-df-convert {\n",
              "      background-color: #3B4455;\n",
              "      fill: #D2E3FC;\n",
              "    }\n",
              "\n",
              "    [theme=dark] .colab-df-convert:hover {\n",
              "      background-color: #434B5C;\n",
              "      box-shadow: 0px 1px 3px 1px rgba(0, 0, 0, 0.15);\n",
              "      filter: drop-shadow(0px 1px 2px rgba(0, 0, 0, 0.3));\n",
              "      fill: #FFFFFF;\n",
              "    }\n",
              "  </style>\n",
              "\n",
              "    <script>\n",
              "      const buttonEl =\n",
              "        document.querySelector('#df-ce165828-01d8-4708-a48c-f28906635296 button.colab-df-convert');\n",
              "      buttonEl.style.display =\n",
              "        google.colab.kernel.accessAllowed ? 'block' : 'none';\n",
              "\n",
              "      async function convertToInteractive(key) {\n",
              "        const element = document.querySelector('#df-ce165828-01d8-4708-a48c-f28906635296');\n",
              "        const dataTable =\n",
              "          await google.colab.kernel.invokeFunction('convertToInteractive',\n",
              "                                                    [key], {});\n",
              "        if (!dataTable) return;\n",
              "\n",
              "        const docLinkHtml = 'Like what you see? Visit the ' +\n",
              "          '<a target=\"_blank\" href=https://colab.research.google.com/notebooks/data_table.ipynb>data table notebook</a>'\n",
              "          + ' to learn more about interactive tables.';\n",
              "        element.innerHTML = '';\n",
              "        dataTable['output_type'] = 'display_data';\n",
              "        await google.colab.output.renderOutput(dataTable, element);\n",
              "        const docLink = document.createElement('div');\n",
              "        docLink.innerHTML = docLinkHtml;\n",
              "        element.appendChild(docLink);\n",
              "      }\n",
              "    </script>\n",
              "  </div>\n",
              "\n",
              "\n",
              "    <div id=\"df-135c0a20-10b6-4913-9c7e-0b13b885bb53\">\n",
              "      <button class=\"colab-df-quickchart\" onclick=\"quickchart('df-135c0a20-10b6-4913-9c7e-0b13b885bb53')\"\n",
              "                title=\"Suggest charts\"\n",
              "                style=\"display:none;\">\n",
              "\n",
              "<svg xmlns=\"http://www.w3.org/2000/svg\" height=\"24px\"viewBox=\"0 0 24 24\"\n",
              "     width=\"24px\">\n",
              "    <g>\n",
              "        <path d=\"M19 3H5c-1.1 0-2 .9-2 2v14c0 1.1.9 2 2 2h14c1.1 0 2-.9 2-2V5c0-1.1-.9-2-2-2zM9 17H7v-7h2v7zm4 0h-2V7h2v10zm4 0h-2v-4h2v4z\"/>\n",
              "    </g>\n",
              "</svg>\n",
              "      </button>\n",
              "\n",
              "<style>\n",
              "  .colab-df-quickchart {\n",
              "      --bg-color: #E8F0FE;\n",
              "      --fill-color: #1967D2;\n",
              "      --hover-bg-color: #E2EBFA;\n",
              "      --hover-fill-color: #174EA6;\n",
              "      --disabled-fill-color: #AAA;\n",
              "      --disabled-bg-color: #DDD;\n",
              "  }\n",
              "\n",
              "  [theme=dark] .colab-df-quickchart {\n",
              "      --bg-color: #3B4455;\n",
              "      --fill-color: #D2E3FC;\n",
              "      --hover-bg-color: #434B5C;\n",
              "      --hover-fill-color: #FFFFFF;\n",
              "      --disabled-bg-color: #3B4455;\n",
              "      --disabled-fill-color: #666;\n",
              "  }\n",
              "\n",
              "  .colab-df-quickchart {\n",
              "    background-color: var(--bg-color);\n",
              "    border: none;\n",
              "    border-radius: 50%;\n",
              "    cursor: pointer;\n",
              "    display: none;\n",
              "    fill: var(--fill-color);\n",
              "    height: 32px;\n",
              "    padding: 0;\n",
              "    width: 32px;\n",
              "  }\n",
              "\n",
              "  .colab-df-quickchart:hover {\n",
              "    background-color: var(--hover-bg-color);\n",
              "    box-shadow: 0 1px 2px rgba(60, 64, 67, 0.3), 0 1px 3px 1px rgba(60, 64, 67, 0.15);\n",
              "    fill: var(--button-hover-fill-color);\n",
              "  }\n",
              "\n",
              "  .colab-df-quickchart-complete:disabled,\n",
              "  .colab-df-quickchart-complete:disabled:hover {\n",
              "    background-color: var(--disabled-bg-color);\n",
              "    fill: var(--disabled-fill-color);\n",
              "    box-shadow: none;\n",
              "  }\n",
              "\n",
              "  .colab-df-spinner {\n",
              "    border: 2px solid var(--fill-color);\n",
              "    border-color: transparent;\n",
              "    border-bottom-color: var(--fill-color);\n",
              "    animation:\n",
              "      spin 1s steps(1) infinite;\n",
              "  }\n",
              "\n",
              "  @keyframes spin {\n",
              "    0% {\n",
              "      border-color: transparent;\n",
              "      border-bottom-color: var(--fill-color);\n",
              "      border-left-color: var(--fill-color);\n",
              "    }\n",
              "    20% {\n",
              "      border-color: transparent;\n",
              "      border-left-color: var(--fill-color);\n",
              "      border-top-color: var(--fill-color);\n",
              "    }\n",
              "    30% {\n",
              "      border-color: transparent;\n",
              "      border-left-color: var(--fill-color);\n",
              "      border-top-color: var(--fill-color);\n",
              "      border-right-color: var(--fill-color);\n",
              "    }\n",
              "    40% {\n",
              "      border-color: transparent;\n",
              "      border-right-color: var(--fill-color);\n",
              "      border-top-color: var(--fill-color);\n",
              "    }\n",
              "    60% {\n",
              "      border-color: transparent;\n",
              "      border-right-color: var(--fill-color);\n",
              "    }\n",
              "    80% {\n",
              "      border-color: transparent;\n",
              "      border-right-color: var(--fill-color);\n",
              "      border-bottom-color: var(--fill-color);\n",
              "    }\n",
              "    90% {\n",
              "      border-color: transparent;\n",
              "      border-bottom-color: var(--fill-color);\n",
              "    }\n",
              "  }\n",
              "</style>\n",
              "\n",
              "      <script>\n",
              "        async function quickchart(key) {\n",
              "          const quickchartButtonEl =\n",
              "            document.querySelector('#' + key + ' button');\n",
              "          quickchartButtonEl.disabled = true;  // To prevent multiple clicks.\n",
              "          quickchartButtonEl.classList.add('colab-df-spinner');\n",
              "          try {\n",
              "            const charts = await google.colab.kernel.invokeFunction(\n",
              "                'suggestCharts', [key], {});\n",
              "          } catch (error) {\n",
              "            console.error('Error during call to suggestCharts:', error);\n",
              "          }\n",
              "          quickchartButtonEl.classList.remove('colab-df-spinner');\n",
              "          quickchartButtonEl.classList.add('colab-df-quickchart-complete');\n",
              "        }\n",
              "        (() => {\n",
              "          let quickchartButtonEl =\n",
              "            document.querySelector('#df-135c0a20-10b6-4913-9c7e-0b13b885bb53 button');\n",
              "          quickchartButtonEl.style.display =\n",
              "            google.colab.kernel.accessAllowed ? 'block' : 'none';\n",
              "        })();\n",
              "      </script>\n",
              "    </div>\n",
              "\n",
              "    </div>\n",
              "  </div>\n"
            ],
            "application/vnd.google.colaboratory.intrinsic+json": {
              "type": "dataframe",
              "variable_name": "ev_df",
              "summary": "{\n  \"name\": \"ev_df\",\n  \"rows\": 12654,\n  \"fields\": [\n    {\n      \"column\": \"region\",\n      \"properties\": {\n        \"dtype\": \"category\",\n        \"num_unique_values\": 54,\n        \"samples\": [\n          \"Germany\",\n          \"Turkiye\",\n          \"Thailand\"\n        ],\n        \"semantic_type\": \"\",\n        \"description\": \"\"\n      }\n    },\n    {\n      \"column\": \"category\",\n      \"properties\": {\n        \"dtype\": \"category\",\n        \"num_unique_values\": 3,\n        \"samples\": [\n          \"Historical\",\n          \"Projection-STEPS\",\n          \"Projection-APS\"\n        ],\n        \"semantic_type\": \"\",\n        \"description\": \"\"\n      }\n    },\n    {\n      \"column\": \"parameter\",\n      \"properties\": {\n        \"dtype\": \"category\",\n        \"num_unique_values\": 8,\n        \"samples\": [\n          \"EV sales share\",\n          \"Electricity demand\",\n          \"EV stock share\"\n        ],\n        \"semantic_type\": \"\",\n        \"description\": \"\"\n      }\n    },\n    {\n      \"column\": \"mode\",\n      \"properties\": {\n        \"dtype\": \"category\",\n        \"num_unique_values\": 5,\n        \"samples\": [\n          \"EV\",\n          \"Trucks\",\n          \"Buses\"\n        ],\n        \"semantic_type\": \"\",\n        \"description\": \"\"\n      }\n    },\n    {\n      \"column\": \"powertrain\",\n      \"properties\": {\n        \"dtype\": \"category\",\n        \"num_unique_values\": 6,\n        \"samples\": [\n          \"EV\",\n          \"BEV\",\n          \"FCEV\"\n        ],\n        \"semantic_type\": \"\",\n        \"description\": \"\"\n      }\n    },\n    {\n      \"column\": \"year\",\n      \"properties\": {\n        \"dtype\": \"number\",\n        \"std\": 5,\n        \"min\": 2010,\n        \"max\": 2035,\n        \"num_unique_values\": 17,\n        \"samples\": [\n          2011,\n          2012,\n          2016\n        ],\n        \"semantic_type\": \"\",\n        \"description\": \"\"\n      }\n    },\n    {\n      \"column\": \"unit\",\n      \"properties\": {\n        \"dtype\": \"category\",\n        \"num_unique_values\": 6,\n        \"samples\": [\n          \"percent\",\n          \"Vehicles\",\n          \"Oil displacement, million lge\"\n        ],\n        \"semantic_type\": \"\",\n        \"description\": \"\"\n      }\n    },\n    {\n      \"column\": \"value\",\n      \"properties\": {\n        \"dtype\": \"number\",\n        \"std\": 6860498.318586617,\n        \"min\": 1.20000004244503e-06,\n        \"max\": 440000000.0,\n        \"num_unique_values\": 1032,\n        \"samples\": [\n          2.59999990463257,\n          12.0,\n          890.0\n        ],\n        \"semantic_type\": \"\",\n        \"description\": \"\"\n      }\n    }\n  ]\n}"
            }
          },
          "metadata": {},
          "execution_count": 8
        }
      ]
    },
    {
      "cell_type": "code",
      "source": [
        "# Check data info\n",
        "ev_df.info()\n",
        "\n",
        "# Summary statistics of numerical columns\n",
        "ev_df.describe()\n",
        "\n",
        "# Check unique values in key columns\n",
        "print(ev_df['region'].unique())\n",
        "print(ev_df['powertrain'].unique())\n",
        "print(ev_df['parameter'].unique())\n"
      ],
      "metadata": {
        "colab": {
          "base_uri": "https://localhost:8080/"
        },
        "id": "tepQipM66W9K",
        "outputId": "e1b81869-2875-4fe5-b4a7-f95c90b03b4f"
      },
      "execution_count": 10,
      "outputs": [
        {
          "output_type": "stream",
          "name": "stdout",
          "text": [
            "<class 'pandas.core.frame.DataFrame'>\n",
            "RangeIndex: 12654 entries, 0 to 12653\n",
            "Data columns (total 8 columns):\n",
            " #   Column      Non-Null Count  Dtype  \n",
            "---  ------      --------------  -----  \n",
            " 0   region      12654 non-null  object \n",
            " 1   category    12654 non-null  object \n",
            " 2   parameter   12654 non-null  object \n",
            " 3   mode        12654 non-null  object \n",
            " 4   powertrain  12654 non-null  object \n",
            " 5   year        12654 non-null  int64  \n",
            " 6   unit        12654 non-null  object \n",
            " 7   value       12654 non-null  float64\n",
            "dtypes: float64(1), int64(1), object(6)\n",
            "memory usage: 791.0+ KB\n",
            "['Australia' 'Austria' 'Belgium' 'Brazil' 'Bulgaria' 'Canada' 'Chile'\n",
            " 'China' 'Colombia' 'Costa Rica' 'Croatia' 'Cyprus' 'Czech Republic'\n",
            " 'Denmark' 'Estonia' 'EU27' 'Europe' 'Finland' 'France' 'Germany' 'Greece'\n",
            " 'Hungary' 'Iceland' 'India' 'Indonesia' 'Ireland' 'Israel' 'Italy'\n",
            " 'Japan' 'Korea' 'Latvia' 'Lithuania' 'Luxembourg' 'Mexico' 'Netherlands'\n",
            " 'New Zealand' 'Norway' 'Poland' 'Portugal' 'Rest of the world' 'Romania'\n",
            " 'Seychelles' 'Slovakia' 'Slovenia' 'South Africa' 'Spain' 'Sweden'\n",
            " 'Switzerland' 'Thailand' 'Turkiye' 'United Arab Emirates'\n",
            " 'United Kingdom' 'USA' 'World']\n",
            "['EV' 'BEV' 'PHEV' 'Publicly available fast' 'Publicly available slow'\n",
            " 'FCEV']\n",
            "['EV stock share' 'EV sales share' 'EV sales' 'EV stock'\n",
            " 'EV charging points' 'Electricity demand' 'Oil displacement Mbd'\n",
            " 'Oil displacement, million lge']\n"
          ]
        }
      ]
    },
    {
      "cell_type": "code",
      "source": [
        "print(ev_df.columns)\n"
      ],
      "metadata": {
        "colab": {
          "base_uri": "https://localhost:8080/"
        },
        "id": "l7IJQREd7MvQ",
        "outputId": "5ebfcc90-853a-4fd9-b1e3-499531dd108a"
      },
      "execution_count": 12,
      "outputs": [
        {
          "output_type": "stream",
          "name": "stdout",
          "text": [
            "Index(['region', 'category', 'parameter', 'mode', 'powertrain', 'year', 'unit',\n",
            "       'value'],\n",
            "      dtype='object')\n"
          ]
        }
      ]
    },
    {
      "cell_type": "code",
      "source": [
        "import pandas as pd\n",
        "\n",
        "# Assuming ev_df is loaded\n",
        "\n",
        "# Rename 'region' to 'country'\n",
        "ev_df = ev_df.rename(columns={'region': 'country'})\n",
        "\n",
        "# Pivot the table to wide format, with 'parameter' values as columns\n",
        "ev_wide = ev_df.pivot_table(index=['country', 'year'],\n",
        "                            columns='parameter',\n",
        "                            values='value').reset_index()\n",
        "\n",
        "# Optionally, rename columns to simpler names (check exact parameter names first)\n",
        "ev_wide = ev_wide.rename(columns={\n",
        "    'Electric car sales (IEA, 2023)': 'ev_sales',\n",
        "    'Total car sales (IEA, 2023)': 'total_sales',\n",
        "    'Electric car sales as a share of total sales (IEA, 2023)': 'ev_share'\n",
        "})\n",
        "\n",
        "# Select columns you want and drop rows with missing values\n",
        "ev_wide = ev_wide[['country', 'year']].dropna().reset_index(drop=True)\n",
        "\n",
        "print(ev_wide.head())\n"
      ],
      "metadata": {
        "colab": {
          "base_uri": "https://localhost:8080/"
        },
        "id": "Af2B4eBh7iEx",
        "outputId": "1c924a5c-7644-43bc-d35b-28d1060e6e5c"
      },
      "execution_count": 15,
      "outputs": [
        {
          "output_type": "stream",
          "name": "stdout",
          "text": [
            "parameter    country  year\n",
            "0          Australia  2011\n",
            "1          Australia  2012\n",
            "2          Australia  2013\n",
            "3          Australia  2014\n",
            "4          Australia  2015\n"
          ]
        }
      ]
    },
    {
      "cell_type": "code",
      "source": [
        "print(ev_df['parameter'].unique())"
      ],
      "metadata": {
        "colab": {
          "base_uri": "https://localhost:8080/"
        },
        "id": "SNV6Tdk-8DKK",
        "outputId": "0fa59e10-454f-4239-9321-8bb01d1c3227"
      },
      "execution_count": 16,
      "outputs": [
        {
          "output_type": "stream",
          "name": "stdout",
          "text": [
            "['EV stock share' 'EV sales share' 'EV sales' 'EV stock'\n",
            " 'EV charging points' 'Electricity demand' 'Oil displacement Mbd'\n",
            " 'Oil displacement, million lge']\n"
          ]
        }
      ]
    },
    {
      "cell_type": "code",
      "source": [
        "import pandas as pd\n",
        "\n",
        "# Rename 'region' to 'country'\n",
        "ev_df = ev_df.rename(columns={'region': 'country'})\n",
        "\n",
        "# Filter to only keep rows with parameters we want\n",
        "ev_df_filtered = ev_df[ev_df['parameter'].isin(['EV sales', 'EV sales share'])]\n",
        "\n",
        "# Pivot the table to wide format, with parameters as columns\n",
        "ev_wide = ev_df_filtered.pivot_table(index=['country', 'year'],\n",
        "                                    columns='parameter',\n",
        "                                    values='value').reset_index()\n",
        "\n",
        "# Rename columns to simpler names\n",
        "ev_wide = ev_wide.rename(columns={\n",
        "    'EV sales': 'ev_sales',\n",
        "    'EV sales share': 'ev_share'\n",
        "})\n",
        "\n",
        "# Select relevant columns and drop any rows with missing values\n",
        "ev_wide = ev_wide[['country', 'year', 'ev_sales', 'ev_share']].dropna().reset_index(drop=True)\n",
        "\n",
        "print(ev_wide.head())\n"
      ],
      "metadata": {
        "colab": {
          "base_uri": "https://localhost:8080/"
        },
        "id": "MKvdbSYG8QXs",
        "outputId": "125b6c82-5a69-479f-e632-fbed0d7cf8c2"
      },
      "execution_count": 17,
      "outputs": [
        {
          "output_type": "stream",
          "name": "stdout",
          "text": [
            "parameter    country  year  ev_sales  ev_share\n",
            "0          Australia  2011      49.0    0.0065\n",
            "1          Australia  2012     125.0    0.0300\n",
            "2          Australia  2013     145.0    0.0340\n",
            "3          Australia  2014     660.0    0.1600\n",
            "4          Australia  2015     880.0    0.2000\n"
          ]
        }
      ]
    },
    {
      "cell_type": "code",
      "source": [
        "print(\"Missing values per column:\\n\", ev_wide.isnull().sum())\n",
        "print(\"Number of duplicate rows:\", ev_wide.duplicated().sum())\n",
        "\n",
        "# Step 2: Drop duplicate rows if any\n",
        "ev_wide = ev_wide.drop_duplicates()\n",
        "\n",
        "# Step 3: Handle missing values\n",
        "# Option A: Drop rows with any missing values\n",
        "ev_wide_clean = ev_wide.dropna()\n",
        "\n",
        "# Option B (optional): Fill missing values (example: fill ev_share with 0)\n",
        "# ev_wide_clean = ev_wide.fillna({'ev_share': 0})\n",
        "\n",
        "# Step 4: Convert year to integer (if not already)\n",
        "ev_wide_clean['year'] = ev_wide_clean['year'].astype(int)\n",
        "\n",
        "# Convert sales and share columns to numeric (in case they are object/string)\n",
        "ev_wide_clean['ev_sales'] = pd.to_numeric(ev_wide_clean['ev_sales'], errors='coerce')\n",
        "ev_wide_clean['ev_share'] = pd.to_numeric(ev_wide_clean['ev_share'], errors='coerce')\n",
        "\n",
        "# After conversion, drop any rows where conversion failed (NaNs introduced)\n",
        "ev_wide_clean = ev_wide_clean.dropna(subset=['ev_sales', 'ev_share'])\n",
        "\n",
        "# Step 5: Reset index\n",
        "ev_wide_clean = ev_wide_clean.reset_index(drop=True)\n",
        "\n",
        "print(\"\\nCleaned data info:\")\n",
        "print(ev_wide_clean.info())\n",
        "print(ev_wide_clean.head())"
      ],
      "metadata": {
        "colab": {
          "base_uri": "https://localhost:8080/"
        },
        "id": "otZrTayE9blo",
        "outputId": "864ca137-9f9d-468d-bdb3-6981059bb0b9"
      },
      "execution_count": 18,
      "outputs": [
        {
          "output_type": "stream",
          "name": "stdout",
          "text": [
            "Missing values per column:\n",
            " parameter\n",
            "country     0\n",
            "year        0\n",
            "ev_sales    0\n",
            "ev_share    0\n",
            "dtype: int64\n",
            "Number of duplicate rows: 0\n",
            "\n",
            "Cleaned data info:\n",
            "<class 'pandas.core.frame.DataFrame'>\n",
            "RangeIndex: 623 entries, 0 to 622\n",
            "Data columns (total 4 columns):\n",
            " #   Column    Non-Null Count  Dtype  \n",
            "---  ------    --------------  -----  \n",
            " 0   country   623 non-null    object \n",
            " 1   year      623 non-null    int64  \n",
            " 2   ev_sales  623 non-null    float64\n",
            " 3   ev_share  623 non-null    float64\n",
            "dtypes: float64(2), int64(1), object(1)\n",
            "memory usage: 19.6+ KB\n",
            "None\n",
            "parameter    country  year  ev_sales  ev_share\n",
            "0          Australia  2011      49.0    0.0065\n",
            "1          Australia  2012     125.0    0.0300\n",
            "2          Australia  2013     145.0    0.0340\n",
            "3          Australia  2014     660.0    0.1600\n",
            "4          Australia  2015     880.0    0.2000\n"
          ]
        }
      ]
    },
    {
      "cell_type": "code",
      "source": [
        "print(ev_wide_clean.isnull().sum())    # should be zeros for all columns\n",
        "print(ev_wide_clean.duplicated().sum())  # should be 0\n",
        "print(ev_wide_clean.dtypes)              # check data types\n"
      ],
      "metadata": {
        "colab": {
          "base_uri": "https://localhost:8080/"
        },
        "id": "uoBy4AYj9rHI",
        "outputId": "e8ff18c8-e5d7-4dbc-ef60-97945c4eb0f4"
      },
      "execution_count": 19,
      "outputs": [
        {
          "output_type": "stream",
          "name": "stdout",
          "text": [
            "parameter\n",
            "country     0\n",
            "year        0\n",
            "ev_sales    0\n",
            "ev_share    0\n",
            "dtype: int64\n",
            "0\n",
            "parameter\n",
            "country      object\n",
            "year          int64\n",
            "ev_sales    float64\n",
            "ev_share    float64\n",
            "dtype: object\n"
          ]
        }
      ]
    },
    {
      "cell_type": "code",
      "source": [
        "tesla_url = 'https://raw.githubusercontent.com/Shireesha1631/global-vehicle-analysis/refs/heads/main/data/tesla_user_satisfaction.csv'\n",
        "tesla_df = pd.read_csv(tesla_url)\n",
        "print(tesla_df.head())\n",
        "print(tesla_df.info())"
      ],
      "metadata": {
        "colab": {
          "base_uri": "https://localhost:8080/"
        },
        "id": "QZQ6J6qv-ScO",
        "outputId": "bb2569f5-325e-4236-bd4b-0701815d2a13"
      },
      "execution_count": 20,
      "outputs": [
        {
          "output_type": "stream",
          "name": "stdout",
          "text": [
            "   Unnamed: 0                  Review_Date      Author_Name  \\\n",
            "0           0   on 08/30/18 15:36 PM (PDT)              TN    \n",
            "1           1   on 07/04/18 17:15 PM (PDT)          Ryan W    \n",
            "2           2   on 06/21/18 05:22 AM (PDT)          Bamboo    \n",
            "3           3   on 04/07/18 15:01 PM (PDT)             Mel    \n",
            "4           4   on 12/30/17 21:45 PM (PST)  Dallen Ormond     \n",
            "\n",
            "                                       Vehicle_Title  \\\n",
            "0  2018 Tesla Model X SUV 75D 4dr SUV AWD (electr...   \n",
            "1  2018 Tesla Model X SUV 100D 4dr SUV AWD (elect...   \n",
            "2  2017 Tesla Model X SUV 100D 4dr SUV AWD (elect...   \n",
            "3  2017 Tesla Model X SUV 100D 4dr SUV AWD (elect...   \n",
            "4  2017 Tesla Model X SUV P100D 4dr SUV AWD (elec...   \n",
            "\n",
            "                           Review_Title  \\\n",
            "0                      Not for everyone   \n",
            "1  Crazy good, despite many small flaws   \n",
            "2                  If only my X can fly   \n",
            "3                  Little disappointed.   \n",
            "4                            Fantastic    \n",
            "\n",
            "                                              Review  Rating  \n",
            "0   Model X is unique. Either you like be it or h...     5.0  \n",
            "1   A lot of the existing reviews online, includi...     4.0  \n",
            "2   Like most consumers, I've owned five differen...     5.0  \n",
            "3   Owned car for three more months and it had to...     4.0  \n",
            "4   In the past 12 years I have owned 18 differen...     5.0  \n",
            "<class 'pandas.core.frame.DataFrame'>\n",
            "RangeIndex: 140 entries, 0 to 139\n",
            "Data columns (total 7 columns):\n",
            " #   Column         Non-Null Count  Dtype  \n",
            "---  ------         --------------  -----  \n",
            " 0   Unnamed: 0     140 non-null    int64  \n",
            " 1   Review_Date    140 non-null    object \n",
            " 2   Author_Name    140 non-null    object \n",
            " 3   Vehicle_Title  140 non-null    object \n",
            " 4   Review_Title   140 non-null    object \n",
            " 5   Review         140 non-null    object \n",
            " 6   Rating         140 non-null    float64\n",
            "dtypes: float64(1), int64(1), object(5)\n",
            "memory usage: 7.8+ KB\n",
            "None\n"
          ]
        }
      ]
    },
    {
      "cell_type": "code",
      "source": [
        "# See basic info\n",
        "print(tesla_df.info())\n",
        "\n",
        "# Preview first few rows\n",
        "print(tesla_df.head())\n",
        "\n",
        "# Check for missing values per column\n",
        "print(tesla_df.isnull().sum())\n",
        "\n",
        "# Check duplicates\n",
        "print(tesla_df.duplicated().sum())\n",
        "\n",
        "# See summary stats for numeric columns\n",
        "print(tesla_df.describe())\n"
      ],
      "metadata": {
        "colab": {
          "base_uri": "https://localhost:8080/"
        },
        "id": "qFcQbmd_-yos",
        "outputId": "75e811ee-b6e1-4c46-9427-b120c355d800"
      },
      "execution_count": 21,
      "outputs": [
        {
          "output_type": "stream",
          "name": "stdout",
          "text": [
            "<class 'pandas.core.frame.DataFrame'>\n",
            "RangeIndex: 140 entries, 0 to 139\n",
            "Data columns (total 7 columns):\n",
            " #   Column         Non-Null Count  Dtype  \n",
            "---  ------         --------------  -----  \n",
            " 0   Unnamed: 0     140 non-null    int64  \n",
            " 1   Review_Date    140 non-null    object \n",
            " 2   Author_Name    140 non-null    object \n",
            " 3   Vehicle_Title  140 non-null    object \n",
            " 4   Review_Title   140 non-null    object \n",
            " 5   Review         140 non-null    object \n",
            " 6   Rating         140 non-null    float64\n",
            "dtypes: float64(1), int64(1), object(5)\n",
            "memory usage: 7.8+ KB\n",
            "None\n",
            "   Unnamed: 0                  Review_Date      Author_Name  \\\n",
            "0           0   on 08/30/18 15:36 PM (PDT)              TN    \n",
            "1           1   on 07/04/18 17:15 PM (PDT)          Ryan W    \n",
            "2           2   on 06/21/18 05:22 AM (PDT)          Bamboo    \n",
            "3           3   on 04/07/18 15:01 PM (PDT)             Mel    \n",
            "4           4   on 12/30/17 21:45 PM (PST)  Dallen Ormond     \n",
            "\n",
            "                                       Vehicle_Title  \\\n",
            "0  2018 Tesla Model X SUV 75D 4dr SUV AWD (electr...   \n",
            "1  2018 Tesla Model X SUV 100D 4dr SUV AWD (elect...   \n",
            "2  2017 Tesla Model X SUV 100D 4dr SUV AWD (elect...   \n",
            "3  2017 Tesla Model X SUV 100D 4dr SUV AWD (elect...   \n",
            "4  2017 Tesla Model X SUV P100D 4dr SUV AWD (elec...   \n",
            "\n",
            "                           Review_Title  \\\n",
            "0                      Not for everyone   \n",
            "1  Crazy good, despite many small flaws   \n",
            "2                  If only my X can fly   \n",
            "3                  Little disappointed.   \n",
            "4                            Fantastic    \n",
            "\n",
            "                                              Review  Rating  \n",
            "0   Model X is unique. Either you like be it or h...     5.0  \n",
            "1   A lot of the existing reviews online, includi...     4.0  \n",
            "2   Like most consumers, I've owned five differen...     5.0  \n",
            "3   Owned car for three more months and it had to...     4.0  \n",
            "4   In the past 12 years I have owned 18 differen...     5.0  \n",
            "Unnamed: 0       0\n",
            "Review_Date      0\n",
            "Author_Name      0\n",
            "Vehicle_Title    0\n",
            "Review_Title     0\n",
            "Review           0\n",
            "Rating           0\n",
            "dtype: int64\n",
            "0\n",
            "       Unnamed: 0      Rating\n",
            "count    140.0000  140.000000\n",
            "mean      69.5000    4.397321\n",
            "std       40.5586    1.092534\n",
            "min        0.0000    1.000000\n",
            "25%       34.7500    4.000000\n",
            "50%       69.5000    5.000000\n",
            "75%      104.2500    5.000000\n",
            "max      139.0000    5.000000\n"
          ]
        }
      ]
    },
    {
      "cell_type": "code",
      "source": [
        "tesla_df = tesla_df.drop_duplicates()\n",
        "tesla_df = tesla_df.dropna()\n"
      ],
      "metadata": {
        "id": "S8vsy9pc_l41"
      },
      "execution_count": 23,
      "outputs": []
    },
    {
      "cell_type": "code",
      "source": [
        "print(tesla_df.info())\n",
        "print(tesla_df.isnull().sum())\n"
      ],
      "metadata": {
        "colab": {
          "base_uri": "https://localhost:8080/"
        },
        "id": "9xTIPF_dACyq",
        "outputId": "b3c08537-b4f8-4d62-ee37-79034829ee0b"
      },
      "execution_count": 30,
      "outputs": [
        {
          "output_type": "stream",
          "name": "stdout",
          "text": [
            "<class 'pandas.core.frame.DataFrame'>\n",
            "RangeIndex: 140 entries, 0 to 139\n",
            "Data columns (total 6 columns):\n",
            " #   Column         Non-Null Count  Dtype         \n",
            "---  ------         --------------  -----         \n",
            " 0   Review_Date    0 non-null      datetime64[ns]\n",
            " 1   Author_Name    140 non-null    object        \n",
            " 2   Vehicle_Title  140 non-null    object        \n",
            " 3   Review_Title   140 non-null    object        \n",
            " 4   Review         140 non-null    object        \n",
            " 5   Rating         140 non-null    float64       \n",
            "dtypes: datetime64[ns](1), float64(1), object(4)\n",
            "memory usage: 6.7+ KB\n",
            "None\n",
            "Review_Date      140\n",
            "Author_Name        0\n",
            "Vehicle_Title      0\n",
            "Review_Title       0\n",
            "Review             0\n",
            "Rating             0\n",
            "dtype: int64\n"
          ]
        }
      ]
    },
    {
      "cell_type": "code",
      "source": [
        "tesla_df['Review_Date'] = pd.to_datetime(tesla_df['Review_Date'], errors='coerce')"
      ],
      "metadata": {
        "id": "XN0NuO-tBNy9"
      },
      "execution_count": 32,
      "outputs": []
    },
    {
      "cell_type": "code",
      "source": [
        "for col in tesla_df.select_dtypes(include='object').columns:\n",
        "    tesla_df[col] = tesla_df[col].str.strip()\n",
        "\n",
        "# Reset index after cleaning\n",
        "tesla_df = tesla_df.reset_index(drop=True)\n",
        "\n",
        "# Final check\n",
        "print(tesla_df.info())\n",
        "print(tesla_df.head())"
      ],
      "metadata": {
        "colab": {
          "base_uri": "https://localhost:8080/"
        },
        "id": "shjrQEhWBxkG",
        "outputId": "07a5a9b7-c56c-41b2-c59e-32af25e46401"
      },
      "execution_count": 33,
      "outputs": [
        {
          "output_type": "stream",
          "name": "stdout",
          "text": [
            "<class 'pandas.core.frame.DataFrame'>\n",
            "RangeIndex: 140 entries, 0 to 139\n",
            "Data columns (total 6 columns):\n",
            " #   Column         Non-Null Count  Dtype         \n",
            "---  ------         --------------  -----         \n",
            " 0   Review_Date    0 non-null      datetime64[ns]\n",
            " 1   Author_Name    140 non-null    object        \n",
            " 2   Vehicle_Title  140 non-null    object        \n",
            " 3   Review_Title   140 non-null    object        \n",
            " 4   Review         140 non-null    object        \n",
            " 5   Rating         140 non-null    float64       \n",
            "dtypes: datetime64[ns](1), float64(1), object(4)\n",
            "memory usage: 6.7+ KB\n",
            "None\n",
            "  Review_Date    Author_Name  \\\n",
            "0         NaT             TN   \n",
            "1         NaT         Ryan W   \n",
            "2         NaT         Bamboo   \n",
            "3         NaT            Mel   \n",
            "4         NaT  Dallen Ormond   \n",
            "\n",
            "                                       Vehicle_Title  \\\n",
            "0  2018 Tesla Model X SUV 75D 4dr SUV AWD (electr...   \n",
            "1  2018 Tesla Model X SUV 100D 4dr SUV AWD (elect...   \n",
            "2  2017 Tesla Model X SUV 100D 4dr SUV AWD (elect...   \n",
            "3  2017 Tesla Model X SUV 100D 4dr SUV AWD (elect...   \n",
            "4  2017 Tesla Model X SUV P100D 4dr SUV AWD (elec...   \n",
            "\n",
            "                           Review_Title  \\\n",
            "0                      Not for everyone   \n",
            "1  Crazy good, despite many small flaws   \n",
            "2                  If only my X can fly   \n",
            "3                  Little disappointed.   \n",
            "4                             Fantastic   \n",
            "\n",
            "                                              Review  Rating  \n",
            "0  Model X is unique. Either you like be it or ha...     5.0  \n",
            "1  A lot of the existing reviews online, includin...     4.0  \n",
            "2  Like most consumers, I've owned five different...     5.0  \n",
            "3  Owned car for three more months and it had to ...     4.0  \n",
            "4  In the past 12 years I have owned 18 different...     5.0  \n"
          ]
        }
      ]
    },
    {
      "cell_type": "code",
      "source": [
        "# Reload the original CSV\n",
        "url = 'https://raw.githubusercontent.com/Shireesha1631/global-vehicle-analysis/refs/heads/main/data/tesla_user_satisfaction.csv'\n",
        "tesla_df = pd.read_csv(url)\n",
        "\n",
        "# Print the first few values in Review_Date\n",
        "print(tesla_df['Review_Date'].head())\n"
      ],
      "metadata": {
        "colab": {
          "base_uri": "https://localhost:8080/"
        },
        "id": "fA98vYhaCMIW",
        "outputId": "78509532-757e-4c79-e8ef-b1db027f44b0"
      },
      "execution_count": 34,
      "outputs": [
        {
          "output_type": "stream",
          "name": "stdout",
          "text": [
            "0     on 08/30/18 15:36 PM (PDT)\n",
            "1     on 07/04/18 17:15 PM (PDT)\n",
            "2     on 06/21/18 05:22 AM (PDT)\n",
            "3     on 04/07/18 15:01 PM (PDT)\n",
            "4     on 12/30/17 21:45 PM (PST)\n",
            "Name: Review_Date, dtype: object\n"
          ]
        }
      ]
    },
    {
      "cell_type": "code",
      "source": [
        "tesla_df['Review_Date'] = tesla_df['Review_Date'].str.replace('on ', '', regex=False)  # remove 'on '\n",
        "tesla_df['Review_Date'] = tesla_df['Review_Date'].str.replace(r'\\s*(AM|PM) \\(P[DS]T\\)', '', regex=True)  # remove 'AM/PM (PDT)' or 'PM (PST)'\n",
        "\n",
        "# Step 3: Convert to datetime\n",
        "tesla_df['Review_Date'] = pd.to_datetime(tesla_df['Review_Date'], errors='coerce')\n",
        "\n",
        "# Step 4: Check results\n",
        "print(tesla_df['Review_Date'].head())\n",
        "print(tesla_df['Review_Date'].isnull().sum(), \"missing dates after conversion\")"
      ],
      "metadata": {
        "colab": {
          "base_uri": "https://localhost:8080/"
        },
        "id": "31VED4eXCuxw",
        "outputId": "92a67bd7-d4f8-4b13-d176-87f40857615a"
      },
      "execution_count": 35,
      "outputs": [
        {
          "output_type": "stream",
          "name": "stdout",
          "text": [
            "0   2018-08-30 15:36:00\n",
            "1   2018-07-04 17:15:00\n",
            "2   2018-06-21 05:22:00\n",
            "3   2018-04-07 15:01:00\n",
            "4   2017-12-30 21:45:00\n",
            "Name: Review_Date, dtype: datetime64[ns]\n",
            "0 missing dates after conversion\n"
          ]
        },
        {
          "output_type": "stream",
          "name": "stderr",
          "text": [
            "/tmp/ipython-input-35-270355504.py:5: UserWarning: Could not infer format, so each element will be parsed individually, falling back to `dateutil`. To ensure parsing is consistent and as-expected, please specify a format.\n",
            "  tesla_df['Review_Date'] = pd.to_datetime(tesla_df['Review_Date'], errors='coerce')\n"
          ]
        }
      ]
    },
    {
      "cell_type": "code",
      "source": [
        "import seaborn as sns\n",
        "import matplotlib.pyplot as plt\n",
        "\n",
        "# 1. Heatmap of Global EV Sales by Country Over Time\n",
        "sales_pivot = ev_wide_clean.pivot_table(index='year', columns='country', values='ev_sales', aggfunc='sum').fillna(0)\n",
        "\n",
        "plt.figure(figsize=(14, 8))\n",
        "sns.heatmap(sales_pivot, cmap=\"YlGnBu\", linewidths=0.5)\n",
        "plt.title(\"🌍 Global EV Sales by Country Over Time\")\n",
        "plt.ylabel(\"Year\")\n",
        "plt.xlabel(\"Country\")\n",
        "plt.tight_layout()\n",
        "plt.show()\n",
        "\n",
        "\n",
        "# 2. Prepare Tesla Satisfaction Data for plotting average rating by year\n",
        "tesla_df['Review_Year'] = tesla_df['Review_Date'].dt.year\n",
        "\n",
        "satisfaction_grouped = tesla_df.groupby('Review_Year')['Rating'].mean().reset_index()\n",
        "\n",
        "# 3. Plot Tesla User Satisfaction Over Time\n",
        "plt.figure(figsize=(10, 6))\n",
        "sns.lineplot(data=satisfaction_grouped, x='Review_Year', y='Rating', marker='o')\n",
        "plt.title(\"⭐ Tesla User Satisfaction Over Time\")\n",
        "plt.xlabel(\"Year\")\n",
        "plt.ylabel(\"Average Rating (out of 5)\")\n",
        "plt.grid(True)\n",
        "plt.tight_layout()\n",
        "plt.show()\n"
      ],
      "metadata": {
        "colab": {
          "base_uri": "https://localhost:8080/",
          "height": 1000
        },
        "id": "LibFQde6F1YH",
        "outputId": "7ab5f606-5a22-4a78-991c-67b7fa7b0ff7"
      },
      "execution_count": 39,
      "outputs": [
        {
          "output_type": "stream",
          "name": "stderr",
          "text": [
            "/tmp/ipython-input-39-2480328985.py:12: UserWarning: Glyph 127757 (\\N{EARTH GLOBE EUROPE-AFRICA}) missing from font(s) DejaVu Sans.\n",
            "  plt.tight_layout()\n",
            "/usr/local/lib/python3.11/dist-packages/IPython/core/pylabtools.py:151: UserWarning: Glyph 127757 (\\N{EARTH GLOBE EUROPE-AFRICA}) missing from font(s) DejaVu Sans.\n",
            "  fig.canvas.print_figure(bytes_io, **kw)\n"
          ]
        },
        {
          "output_type": "display_data",
          "data": {
            "text/plain": [
              "<Figure size 1400x800 with 2 Axes>"
            ],
            "image/png": "[encoded data removed]"
          },
          "metadata": {}
        },
        {
          "output_type": "stream",
          "name": "stderr",
          "text": [
            "/tmp/ipython-input-39-2480328985.py:28: UserWarning: Glyph 11088 (\\N{WHITE MEDIUM STAR}) missing from font(s) DejaVu Sans.\n",
            "  plt.tight_layout()\n",
            "/usr/local/lib/python3.11/dist-packages/IPython/core/pylabtools.py:151: UserWarning: Glyph 11088 (\\N{WHITE MEDIUM STAR}) missing from font(s) DejaVu Sans.\n",
            "  fig.canvas.print_figure(bytes_io, **kw)\n",
            "/usr/local/lib/python3.11/dist-packages/IPython/core/pylabtools.py:151: UserWarning: Glyph 11088 (\\N{WHITE MEDIUM STAR}) missing from font(s) DejaVu Sans.\n",
            "  fig.canvas.print_figure(bytes_io, **kw)\n"
          ]
        },
        {
          "output_type": "display_data",
          "data": {
            "text/plain": [
              "<Figure size 1000x600 with 1 Axes>"
            ],
            "image/png": "[encoded data removed]"
          },
          "metadata": {}
        }
      ]
    }
  ]
}